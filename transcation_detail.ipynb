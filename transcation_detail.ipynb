{
 "cells": [
  {
   "cell_type": "code",
   "execution_count": null,
   "metadata": {},
   "outputs": [],
   "source": []
  },
  {
   "cell_type": "markdown",
   "metadata": {},
   "source": [
    "### Importing Libraries"
   ]
  },
  {
   "cell_type": "code",
   "execution_count": 2,
   "metadata": {},
   "outputs": [],
   "source": [
    "from dateutil.parser import parse\n",
    "import matplotlib as mpl\n",
    "import numpy as np\n",
    "import pandas as pd\n",
    "import matplotlib.pyplot as plt\n",
    "import seaborn as sns\n",
    "plt.rcParams.update({'figure.figsize': (10, 7), 'figure.dpi': 120})"
   ]
  },
  {
   "cell_type": "markdown",
   "metadata": {},
   "source": [
    "### Fetching Data from the CSV file"
   ]
  },
  {
   "cell_type": "code",
   "execution_count": 3,
   "metadata": {},
   "outputs": [],
   "source": [
    "df = pd.read_csv(\"Transactions_datasheet.csv\")\n"
   ]
  },
  {
   "cell_type": "code",
   "execution_count": 4,
   "metadata": {},
   "outputs": [
    {
     "data": {
      "text/html": [
       "<div>\n",
       "<style scoped>\n",
       "    .dataframe tbody tr th:only-of-type {\n",
       "        vertical-align: middle;\n",
       "    }\n",
       "\n",
       "    .dataframe tbody tr th {\n",
       "        vertical-align: top;\n",
       "    }\n",
       "\n",
       "    .dataframe thead th {\n",
       "        text-align: right;\n",
       "    }\n",
       "</style>\n",
       "<table border=\"1\" class=\"dataframe\">\n",
       "  <thead>\n",
       "    <tr style=\"text-align: right;\">\n",
       "      <th></th>\n",
       "      <th>t</th>\n",
       "      <th>success</th>\n",
       "      <th>mid</th>\n",
       "      <th>pmt</th>\n",
       "      <th>pg</th>\n",
       "      <th>sub_type</th>\n",
       "      <th>hr</th>\n",
       "      <th>bank</th>\n",
       "    </tr>\n",
       "  </thead>\n",
       "  <tbody>\n",
       "    <tr>\n",
       "      <th>0</th>\n",
       "      <td>2</td>\n",
       "      <td>1</td>\n",
       "      <td>zivame</td>\n",
       "      <td>NB</td>\n",
       "      <td>PAYU</td>\n",
       "      <td>NaN</td>\n",
       "      <td>2020-02-14 06</td>\n",
       "      <td>NB_CITI</td>\n",
       "    </tr>\n",
       "    <tr>\n",
       "      <th>1</th>\n",
       "      <td>1</td>\n",
       "      <td>0</td>\n",
       "      <td>urbanclap</td>\n",
       "      <td>NB</td>\n",
       "      <td>PAYTM</td>\n",
       "      <td>NaN</td>\n",
       "      <td>2020-02-14 06</td>\n",
       "      <td>NB_SYNB</td>\n",
       "    </tr>\n",
       "    <tr>\n",
       "      <th>2</th>\n",
       "      <td>5</td>\n",
       "      <td>1</td>\n",
       "      <td>pharmeasytech</td>\n",
       "      <td>WALLET</td>\n",
       "      <td>AIRTELMONEY</td>\n",
       "      <td>REDIRECT_WALLET_DEBIT</td>\n",
       "      <td>2020-02-14 11</td>\n",
       "      <td>AIRTELMONEY</td>\n",
       "    </tr>\n",
       "    <tr>\n",
       "      <th>3</th>\n",
       "      <td>1</td>\n",
       "      <td>1</td>\n",
       "      <td>pharmeasytech</td>\n",
       "      <td>CARD</td>\n",
       "      <td>PAYU</td>\n",
       "      <td>NaN</td>\n",
       "      <td>2020-02-14 12</td>\n",
       "      <td>THE SATARA SAHAKARI BANK LTD MUMBAI</td>\n",
       "    </tr>\n",
       "    <tr>\n",
       "      <th>4</th>\n",
       "      <td>1</td>\n",
       "      <td>1</td>\n",
       "      <td>fanfight</td>\n",
       "      <td>CARD</td>\n",
       "      <td>RAZORPAY</td>\n",
       "      <td>NaN</td>\n",
       "      <td>2020-02-14 06</td>\n",
       "      <td>DCB</td>\n",
       "    </tr>\n",
       "    <tr>\n",
       "      <th>...</th>\n",
       "      <td>...</td>\n",
       "      <td>...</td>\n",
       "      <td>...</td>\n",
       "      <td>...</td>\n",
       "      <td>...</td>\n",
       "      <td>...</td>\n",
       "      <td>...</td>\n",
       "      <td>...</td>\n",
       "    </tr>\n",
       "    <tr>\n",
       "      <th>19302</th>\n",
       "      <td>1</td>\n",
       "      <td>1</td>\n",
       "      <td>fanfight</td>\n",
       "      <td>CARD</td>\n",
       "      <td>RAZORPAY</td>\n",
       "      <td>NaN</td>\n",
       "      <td>2020-02-12 03</td>\n",
       "      <td>Oriental Bank of Commerce</td>\n",
       "    </tr>\n",
       "    <tr>\n",
       "      <th>19303</th>\n",
       "      <td>1</td>\n",
       "      <td>0</td>\n",
       "      <td>zivame</td>\n",
       "      <td>CARD</td>\n",
       "      <td>HDFC</td>\n",
       "      <td>NaN</td>\n",
       "      <td>2020-02-12 02</td>\n",
       "      <td>Oriental Bank of Commerce</td>\n",
       "    </tr>\n",
       "    <tr>\n",
       "      <th>19304</th>\n",
       "      <td>1</td>\n",
       "      <td>0</td>\n",
       "      <td>drivezy</td>\n",
       "      <td>CARD</td>\n",
       "      <td>GOCASHFREE</td>\n",
       "      <td>NaN</td>\n",
       "      <td>2020-02-12 05</td>\n",
       "      <td>Oriental Bank of Commerce</td>\n",
       "    </tr>\n",
       "    <tr>\n",
       "      <th>19305</th>\n",
       "      <td>1</td>\n",
       "      <td>1</td>\n",
       "      <td>drivezy</td>\n",
       "      <td>CARD</td>\n",
       "      <td>GOCASHFREE</td>\n",
       "      <td>NaN</td>\n",
       "      <td>2020-02-14 14</td>\n",
       "      <td>Oriental Bank of Commerce</td>\n",
       "    </tr>\n",
       "    <tr>\n",
       "      <th>19306</th>\n",
       "      <td>1</td>\n",
       "      <td>1</td>\n",
       "      <td>zivame</td>\n",
       "      <td>CARD</td>\n",
       "      <td>HDFC</td>\n",
       "      <td>NaN</td>\n",
       "      <td>2020-02-12 15</td>\n",
       "      <td>Oriental Bank of Commerce</td>\n",
       "    </tr>\n",
       "  </tbody>\n",
       "</table>\n",
       "<p>19307 rows × 8 columns</p>\n",
       "</div>"
      ],
      "text/plain": [
       "       t  success            mid     pmt           pg               sub_type  \\\n",
       "0      2        1         zivame      NB         PAYU                    NaN   \n",
       "1      1        0      urbanclap      NB        PAYTM                    NaN   \n",
       "2      5        1  pharmeasytech  WALLET  AIRTELMONEY  REDIRECT_WALLET_DEBIT   \n",
       "3      1        1  pharmeasytech    CARD         PAYU                    NaN   \n",
       "4      1        1       fanfight    CARD     RAZORPAY                    NaN   \n",
       "...   ..      ...            ...     ...          ...                    ...   \n",
       "19302  1        1       fanfight    CARD     RAZORPAY                    NaN   \n",
       "19303  1        0         zivame    CARD         HDFC                    NaN   \n",
       "19304  1        0        drivezy    CARD   GOCASHFREE                    NaN   \n",
       "19305  1        1        drivezy    CARD   GOCASHFREE                    NaN   \n",
       "19306  1        1         zivame    CARD         HDFC                    NaN   \n",
       "\n",
       "                  hr                                 bank  \n",
       "0      2020-02-14 06                              NB_CITI  \n",
       "1      2020-02-14 06                              NB_SYNB  \n",
       "2      2020-02-14 11                          AIRTELMONEY  \n",
       "3      2020-02-14 12  THE SATARA SAHAKARI BANK LTD MUMBAI  \n",
       "4      2020-02-14 06                                  DCB  \n",
       "...              ...                                  ...  \n",
       "19302  2020-02-12 03            Oriental Bank of Commerce  \n",
       "19303  2020-02-12 02            Oriental Bank of Commerce  \n",
       "19304  2020-02-12 05            Oriental Bank of Commerce  \n",
       "19305  2020-02-14 14            Oriental Bank of Commerce  \n",
       "19306  2020-02-12 15            Oriental Bank of Commerce  \n",
       "\n",
       "[19307 rows x 8 columns]"
      ]
     },
     "execution_count": 4,
     "metadata": {},
     "output_type": "execute_result"
    }
   ],
   "source": [
    "df"
   ]
  },
  {
   "cell_type": "markdown",
   "metadata": {},
   "source": [
    "#### The data set having row values 19307 and variable of 8 "
   ]
  },
  {
   "cell_type": "code",
   "execution_count": 5,
   "metadata": {},
   "outputs": [
    {
     "data": {
      "text/html": [
       "<div>\n",
       "<style scoped>\n",
       "    .dataframe tbody tr th:only-of-type {\n",
       "        vertical-align: middle;\n",
       "    }\n",
       "\n",
       "    .dataframe tbody tr th {\n",
       "        vertical-align: top;\n",
       "    }\n",
       "\n",
       "    .dataframe thead th {\n",
       "        text-align: right;\n",
       "    }\n",
       "</style>\n",
       "<table border=\"1\" class=\"dataframe\">\n",
       "  <thead>\n",
       "    <tr style=\"text-align: right;\">\n",
       "      <th></th>\n",
       "      <th>t</th>\n",
       "      <th>success</th>\n",
       "      <th>mid</th>\n",
       "      <th>pmt</th>\n",
       "      <th>pg</th>\n",
       "      <th>sub_type</th>\n",
       "      <th>hr</th>\n",
       "      <th>bank</th>\n",
       "    </tr>\n",
       "  </thead>\n",
       "  <tbody>\n",
       "    <tr>\n",
       "      <th>0</th>\n",
       "      <td>2</td>\n",
       "      <td>1</td>\n",
       "      <td>zivame</td>\n",
       "      <td>NB</td>\n",
       "      <td>PAYU</td>\n",
       "      <td>NaN</td>\n",
       "      <td>2020-02-14 06</td>\n",
       "      <td>NB_CITI</td>\n",
       "    </tr>\n",
       "    <tr>\n",
       "      <th>1</th>\n",
       "      <td>1</td>\n",
       "      <td>0</td>\n",
       "      <td>urbanclap</td>\n",
       "      <td>NB</td>\n",
       "      <td>PAYTM</td>\n",
       "      <td>NaN</td>\n",
       "      <td>2020-02-14 06</td>\n",
       "      <td>NB_SYNB</td>\n",
       "    </tr>\n",
       "    <tr>\n",
       "      <th>2</th>\n",
       "      <td>5</td>\n",
       "      <td>1</td>\n",
       "      <td>pharmeasytech</td>\n",
       "      <td>WALLET</td>\n",
       "      <td>AIRTELMONEY</td>\n",
       "      <td>REDIRECT_WALLET_DEBIT</td>\n",
       "      <td>2020-02-14 11</td>\n",
       "      <td>AIRTELMONEY</td>\n",
       "    </tr>\n",
       "    <tr>\n",
       "      <th>3</th>\n",
       "      <td>1</td>\n",
       "      <td>1</td>\n",
       "      <td>pharmeasytech</td>\n",
       "      <td>CARD</td>\n",
       "      <td>PAYU</td>\n",
       "      <td>NaN</td>\n",
       "      <td>2020-02-14 12</td>\n",
       "      <td>THE SATARA SAHAKARI BANK LTD MUMBAI</td>\n",
       "    </tr>\n",
       "    <tr>\n",
       "      <th>4</th>\n",
       "      <td>1</td>\n",
       "      <td>1</td>\n",
       "      <td>fanfight</td>\n",
       "      <td>CARD</td>\n",
       "      <td>RAZORPAY</td>\n",
       "      <td>NaN</td>\n",
       "      <td>2020-02-14 06</td>\n",
       "      <td>DCB</td>\n",
       "    </tr>\n",
       "  </tbody>\n",
       "</table>\n",
       "</div>"
      ],
      "text/plain": [
       "   t  success            mid     pmt           pg               sub_type  \\\n",
       "0  2        1         zivame      NB         PAYU                    NaN   \n",
       "1  1        0      urbanclap      NB        PAYTM                    NaN   \n",
       "2  5        1  pharmeasytech  WALLET  AIRTELMONEY  REDIRECT_WALLET_DEBIT   \n",
       "3  1        1  pharmeasytech    CARD         PAYU                    NaN   \n",
       "4  1        1       fanfight    CARD     RAZORPAY                    NaN   \n",
       "\n",
       "              hr                                 bank  \n",
       "0  2020-02-14 06                              NB_CITI  \n",
       "1  2020-02-14 06                              NB_SYNB  \n",
       "2  2020-02-14 11                          AIRTELMONEY  \n",
       "3  2020-02-14 12  THE SATARA SAHAKARI BANK LTD MUMBAI  \n",
       "4  2020-02-14 06                                  DCB  "
      ]
     },
     "execution_count": 5,
     "metadata": {},
     "output_type": "execute_result"
    }
   ],
   "source": [
    "df.head()"
   ]
  },
  {
   "cell_type": "markdown",
   "metadata": {},
   "source": [
    "#### For the basic understanding fetched the top 5 rows of the given data set"
   ]
  },
  {
   "cell_type": "code",
   "execution_count": 6,
   "metadata": {},
   "outputs": [
    {
     "data": {
      "text/html": [
       "<div>\n",
       "<style scoped>\n",
       "    .dataframe tbody tr th:only-of-type {\n",
       "        vertical-align: middle;\n",
       "    }\n",
       "\n",
       "    .dataframe tbody tr th {\n",
       "        vertical-align: top;\n",
       "    }\n",
       "\n",
       "    .dataframe thead th {\n",
       "        text-align: right;\n",
       "    }\n",
       "</style>\n",
       "<table border=\"1\" class=\"dataframe\">\n",
       "  <thead>\n",
       "    <tr style=\"text-align: right;\">\n",
       "      <th></th>\n",
       "      <th>t</th>\n",
       "      <th>success</th>\n",
       "      <th>mid</th>\n",
       "      <th>pmt</th>\n",
       "      <th>pg</th>\n",
       "      <th>sub_type</th>\n",
       "      <th>hr</th>\n",
       "      <th>bank</th>\n",
       "      <th>sucess_rate</th>\n",
       "    </tr>\n",
       "  </thead>\n",
       "  <tbody>\n",
       "    <tr>\n",
       "      <th>0</th>\n",
       "      <td>2</td>\n",
       "      <td>1</td>\n",
       "      <td>zivame</td>\n",
       "      <td>NB</td>\n",
       "      <td>PAYU</td>\n",
       "      <td>NaN</td>\n",
       "      <td>2020-02-14 06</td>\n",
       "      <td>NB_CITI</td>\n",
       "      <td>50.0</td>\n",
       "    </tr>\n",
       "    <tr>\n",
       "      <th>1</th>\n",
       "      <td>1</td>\n",
       "      <td>0</td>\n",
       "      <td>urbanclap</td>\n",
       "      <td>NB</td>\n",
       "      <td>PAYTM</td>\n",
       "      <td>NaN</td>\n",
       "      <td>2020-02-14 06</td>\n",
       "      <td>NB_SYNB</td>\n",
       "      <td>0.0</td>\n",
       "    </tr>\n",
       "    <tr>\n",
       "      <th>2</th>\n",
       "      <td>5</td>\n",
       "      <td>1</td>\n",
       "      <td>pharmeasytech</td>\n",
       "      <td>WALLET</td>\n",
       "      <td>AIRTELMONEY</td>\n",
       "      <td>REDIRECT_WALLET_DEBIT</td>\n",
       "      <td>2020-02-14 11</td>\n",
       "      <td>AIRTELMONEY</td>\n",
       "      <td>20.0</td>\n",
       "    </tr>\n",
       "    <tr>\n",
       "      <th>3</th>\n",
       "      <td>1</td>\n",
       "      <td>1</td>\n",
       "      <td>pharmeasytech</td>\n",
       "      <td>CARD</td>\n",
       "      <td>PAYU</td>\n",
       "      <td>NaN</td>\n",
       "      <td>2020-02-14 12</td>\n",
       "      <td>THE SATARA SAHAKARI BANK LTD MUMBAI</td>\n",
       "      <td>100.0</td>\n",
       "    </tr>\n",
       "    <tr>\n",
       "      <th>4</th>\n",
       "      <td>1</td>\n",
       "      <td>1</td>\n",
       "      <td>fanfight</td>\n",
       "      <td>CARD</td>\n",
       "      <td>RAZORPAY</td>\n",
       "      <td>NaN</td>\n",
       "      <td>2020-02-14 06</td>\n",
       "      <td>DCB</td>\n",
       "      <td>100.0</td>\n",
       "    </tr>\n",
       "  </tbody>\n",
       "</table>\n",
       "</div>"
      ],
      "text/plain": [
       "   t  success            mid     pmt           pg               sub_type  \\\n",
       "0  2        1         zivame      NB         PAYU                    NaN   \n",
       "1  1        0      urbanclap      NB        PAYTM                    NaN   \n",
       "2  5        1  pharmeasytech  WALLET  AIRTELMONEY  REDIRECT_WALLET_DEBIT   \n",
       "3  1        1  pharmeasytech    CARD         PAYU                    NaN   \n",
       "4  1        1       fanfight    CARD     RAZORPAY                    NaN   \n",
       "\n",
       "              hr                                 bank  sucess_rate  \n",
       "0  2020-02-14 06                              NB_CITI         50.0  \n",
       "1  2020-02-14 06                              NB_SYNB          0.0  \n",
       "2  2020-02-14 11                          AIRTELMONEY         20.0  \n",
       "3  2020-02-14 12  THE SATARA SAHAKARI BANK LTD MUMBAI        100.0  \n",
       "4  2020-02-14 06                                  DCB        100.0  "
      ]
     },
     "execution_count": 6,
     "metadata": {},
     "output_type": "execute_result"
    }
   ],
   "source": [
    "df['sucess_rate'] = df['success']/df['t'] *100\n",
    "df.head()"
   ]
  },
  {
   "cell_type": "markdown",
   "metadata": {},
   "source": [
    "### Created a new column to understand the success rate's with respective total transcation .The new column has given the name 'sucess_rate'"
   ]
  },
  {
   "cell_type": "markdown",
   "metadata": {},
   "source": [
    "#### Checking the Null values in the given data set."
   ]
  },
  {
   "cell_type": "code",
   "execution_count": 7,
   "metadata": {},
   "outputs": [
    {
     "data": {
      "text/plain": [
       "t                  0\n",
       "success            0\n",
       "mid                0\n",
       "pmt                0\n",
       "pg                37\n",
       "sub_type       16404\n",
       "hr                 0\n",
       "bank             338\n",
       "sucess_rate        0\n",
       "dtype: int64"
      ]
     },
     "execution_count": 7,
     "metadata": {},
     "output_type": "execute_result"
    }
   ],
   "source": [
    "df.isnull().sum()"
   ]
  },
  {
   "cell_type": "markdown",
   "metadata": {},
   "source": [
    "#### From the null value checking process it can be seen that subtype of payment option used by the users are having missing value of 164040.And Almost 338 Bank names are missing in the data set where which customers are sending the amount."
   ]
  },
  {
   "cell_type": "code",
   "execution_count": 8,
   "metadata": {},
   "outputs": [
    {
     "data": {
      "text/html": [
       "<div>\n",
       "<style scoped>\n",
       "    .dataframe tbody tr th:only-of-type {\n",
       "        vertical-align: middle;\n",
       "    }\n",
       "\n",
       "    .dataframe tbody tr th {\n",
       "        vertical-align: top;\n",
       "    }\n",
       "\n",
       "    .dataframe thead th {\n",
       "        text-align: right;\n",
       "    }\n",
       "</style>\n",
       "<table border=\"1\" class=\"dataframe\">\n",
       "  <thead>\n",
       "    <tr style=\"text-align: right;\">\n",
       "      <th></th>\n",
       "      <th>t</th>\n",
       "      <th>success</th>\n",
       "      <th>mid</th>\n",
       "      <th>pmt</th>\n",
       "      <th>pg</th>\n",
       "      <th>sub_type</th>\n",
       "      <th>hr</th>\n",
       "      <th>sucess_rate</th>\n",
       "    </tr>\n",
       "  </thead>\n",
       "  <tbody>\n",
       "    <tr>\n",
       "      <th>0</th>\n",
       "      <td>2</td>\n",
       "      <td>1</td>\n",
       "      <td>zivame</td>\n",
       "      <td>NB</td>\n",
       "      <td>PAYU</td>\n",
       "      <td>NaN</td>\n",
       "      <td>2020-02-14 06</td>\n",
       "      <td>50.0</td>\n",
       "    </tr>\n",
       "    <tr>\n",
       "      <th>1</th>\n",
       "      <td>1</td>\n",
       "      <td>0</td>\n",
       "      <td>urbanclap</td>\n",
       "      <td>NB</td>\n",
       "      <td>PAYTM</td>\n",
       "      <td>NaN</td>\n",
       "      <td>2020-02-14 06</td>\n",
       "      <td>0.0</td>\n",
       "    </tr>\n",
       "    <tr>\n",
       "      <th>2</th>\n",
       "      <td>5</td>\n",
       "      <td>1</td>\n",
       "      <td>pharmeasytech</td>\n",
       "      <td>WALLET</td>\n",
       "      <td>AIRTELMONEY</td>\n",
       "      <td>REDIRECT_WALLET_DEBIT</td>\n",
       "      <td>2020-02-14 11</td>\n",
       "      <td>20.0</td>\n",
       "    </tr>\n",
       "    <tr>\n",
       "      <th>3</th>\n",
       "      <td>1</td>\n",
       "      <td>1</td>\n",
       "      <td>pharmeasytech</td>\n",
       "      <td>CARD</td>\n",
       "      <td>PAYU</td>\n",
       "      <td>NaN</td>\n",
       "      <td>2020-02-14 12</td>\n",
       "      <td>100.0</td>\n",
       "    </tr>\n",
       "    <tr>\n",
       "      <th>4</th>\n",
       "      <td>1</td>\n",
       "      <td>1</td>\n",
       "      <td>fanfight</td>\n",
       "      <td>CARD</td>\n",
       "      <td>RAZORPAY</td>\n",
       "      <td>NaN</td>\n",
       "      <td>2020-02-14 06</td>\n",
       "      <td>100.0</td>\n",
       "    </tr>\n",
       "    <tr>\n",
       "      <th>...</th>\n",
       "      <td>...</td>\n",
       "      <td>...</td>\n",
       "      <td>...</td>\n",
       "      <td>...</td>\n",
       "      <td>...</td>\n",
       "      <td>...</td>\n",
       "      <td>...</td>\n",
       "      <td>...</td>\n",
       "    </tr>\n",
       "    <tr>\n",
       "      <th>19302</th>\n",
       "      <td>1</td>\n",
       "      <td>1</td>\n",
       "      <td>fanfight</td>\n",
       "      <td>CARD</td>\n",
       "      <td>RAZORPAY</td>\n",
       "      <td>NaN</td>\n",
       "      <td>2020-02-12 03</td>\n",
       "      <td>100.0</td>\n",
       "    </tr>\n",
       "    <tr>\n",
       "      <th>19303</th>\n",
       "      <td>1</td>\n",
       "      <td>0</td>\n",
       "      <td>zivame</td>\n",
       "      <td>CARD</td>\n",
       "      <td>HDFC</td>\n",
       "      <td>NaN</td>\n",
       "      <td>2020-02-12 02</td>\n",
       "      <td>0.0</td>\n",
       "    </tr>\n",
       "    <tr>\n",
       "      <th>19304</th>\n",
       "      <td>1</td>\n",
       "      <td>0</td>\n",
       "      <td>drivezy</td>\n",
       "      <td>CARD</td>\n",
       "      <td>GOCASHFREE</td>\n",
       "      <td>NaN</td>\n",
       "      <td>2020-02-12 05</td>\n",
       "      <td>0.0</td>\n",
       "    </tr>\n",
       "    <tr>\n",
       "      <th>19305</th>\n",
       "      <td>1</td>\n",
       "      <td>1</td>\n",
       "      <td>drivezy</td>\n",
       "      <td>CARD</td>\n",
       "      <td>GOCASHFREE</td>\n",
       "      <td>NaN</td>\n",
       "      <td>2020-02-14 14</td>\n",
       "      <td>100.0</td>\n",
       "    </tr>\n",
       "    <tr>\n",
       "      <th>19306</th>\n",
       "      <td>1</td>\n",
       "      <td>1</td>\n",
       "      <td>zivame</td>\n",
       "      <td>CARD</td>\n",
       "      <td>HDFC</td>\n",
       "      <td>NaN</td>\n",
       "      <td>2020-02-12 15</td>\n",
       "      <td>100.0</td>\n",
       "    </tr>\n",
       "  </tbody>\n",
       "</table>\n",
       "<p>19307 rows × 8 columns</p>\n",
       "</div>"
      ],
      "text/plain": [
       "       t  success            mid     pmt           pg               sub_type  \\\n",
       "0      2        1         zivame      NB         PAYU                    NaN   \n",
       "1      1        0      urbanclap      NB        PAYTM                    NaN   \n",
       "2      5        1  pharmeasytech  WALLET  AIRTELMONEY  REDIRECT_WALLET_DEBIT   \n",
       "3      1        1  pharmeasytech    CARD         PAYU                    NaN   \n",
       "4      1        1       fanfight    CARD     RAZORPAY                    NaN   \n",
       "...   ..      ...            ...     ...          ...                    ...   \n",
       "19302  1        1       fanfight    CARD     RAZORPAY                    NaN   \n",
       "19303  1        0         zivame    CARD         HDFC                    NaN   \n",
       "19304  1        0        drivezy    CARD   GOCASHFREE                    NaN   \n",
       "19305  1        1        drivezy    CARD   GOCASHFREE                    NaN   \n",
       "19306  1        1         zivame    CARD         HDFC                    NaN   \n",
       "\n",
       "                  hr  sucess_rate  \n",
       "0      2020-02-14 06         50.0  \n",
       "1      2020-02-14 06          0.0  \n",
       "2      2020-02-14 11         20.0  \n",
       "3      2020-02-14 12        100.0  \n",
       "4      2020-02-14 06        100.0  \n",
       "...              ...          ...  \n",
       "19302  2020-02-12 03        100.0  \n",
       "19303  2020-02-12 02          0.0  \n",
       "19304  2020-02-12 05          0.0  \n",
       "19305  2020-02-14 14        100.0  \n",
       "19306  2020-02-12 15        100.0  \n",
       "\n",
       "[19307 rows x 8 columns]"
      ]
     },
     "execution_count": 8,
     "metadata": {},
     "output_type": "execute_result"
    }
   ],
   "source": [
    "df.drop(['bank'], axis = 1)"
   ]
  },
  {
   "cell_type": "code",
   "execution_count": 9,
   "metadata": {},
   "outputs": [
    {
     "data": {
      "image/png": "[encoded data removed]",
      "text/plain": [
       "<Figure size 840x600 with 1 Axes>"
      ]
     },
     "metadata": {
      "needs_background": "light"
     },
     "output_type": "display_data"
    }
   ],
   "source": [
    "fig, ax1 = plt.subplots(figsize=(7, 5))\n",
    "sns.barplot(x = 'pmt', y= 'success', data = df,ax = ax1,color = \"maroon\")\n",
    "sns.despine(fig)\n",
    "plt.show()"
   ]
  },
  {
   "cell_type": "code",
   "execution_count": 10,
   "metadata": {},
   "outputs": [
    {
     "data": {
      "image/png": "[encoded data removed]",
      "text/plain": [
       "<Figure size 1200x600 with 1 Axes>"
      ]
     },
     "metadata": {
      "needs_background": "light"
     },
     "output_type": "display_data"
    }
   ],
   "source": [
    "fig, ax1 = plt.subplots(figsize=(10, 5))\n",
    "sns.barplot(x = 'mid', y= 'success', data = df,ax = ax1,dodge=False,color = \"red\")\n",
    "sns.despine(fig)\n",
    "plt.show()"
   ]
  },
  {
   "cell_type": "code",
   "execution_count": 11,
   "metadata": {},
   "outputs": [
    {
     "data": {
      "image/png": "[encoded data removed]",
      "text/plain": [
       "<Figure size 2400x600 with 1 Axes>"
      ]
     },
     "metadata": {
      "needs_background": "light"
     },
     "output_type": "display_data"
    }
   ],
   "source": [
    "fig, ax1 = plt.subplots(figsize=(20,5))\n",
    "sns.barplot(x = 'pg', y= 'success', data = df,ax = ax1,dodge=False,color= \"green\")\n",
    "sns.despine(fig)\n",
    "plt.show()"
   ]
  },
  {
   "cell_type": "markdown",
   "metadata": {},
   "source": [
    "#### From the describe we can understand the basic details regarding with the total number of transaction and the total number of succesfull transcation ."
   ]
  },
  {
   "cell_type": "code",
   "execution_count": 12,
   "metadata": {},
   "outputs": [
    {
     "data": {
      "image/png": "[encoded data removed]",
      "text/plain": [
       "<Figure size 840x600 with 1 Axes>"
      ]
     },
     "metadata": {
      "needs_background": "light"
     },
     "output_type": "display_data"
    }
   ],
   "source": [
    "fig, ax1 = plt.subplots(figsize=(7, 5))\n",
    "sns.barplot(x = 'sub_type', y= 'success', data = df,ax = ax1,color = \"maroon\")\n",
    "sns.despine(fig)\n",
    "plt.show()"
   ]
  },
  {
   "cell_type": "markdown",
   "metadata": {},
   "source": [
    "## 1.2"
   ]
  },
  {
   "cell_type": "markdown",
   "metadata": {},
   "source": [
    "## By Checking the data set with the co-relation of variables with the succes rate or combination of variables together for having succes output.A success rate predictore model can be created so that the condition favouring an succesful output would be notified to customer at the time of transcation.Or can predict the customer the transcation would be succesful or not"
   ]
  },
  {
   "cell_type": "code",
   "execution_count": null,
   "metadata": {},
   "outputs": [],
   "source": []
  },
  {
   "cell_type": "code",
   "execution_count": null,
   "metadata": {},
   "outputs": [],
   "source": []
  },
  {
   "cell_type": "code",
   "execution_count": null,
   "metadata": {},
   "outputs": [],
   "source": []
  },
  {
   "cell_type": "code",
   "execution_count": null,
   "metadata": {},
   "outputs": [],
   "source": []
  },
  {
   "cell_type": "code",
   "execution_count": null,
   "metadata": {},
   "outputs": [],
   "source": []
  },
  {
   "cell_type": "code",
   "execution_count": null,
   "metadata": {},
   "outputs": [],
   "source": []
  },
  {
   "cell_type": "code",
   "execution_count": null,
   "metadata": {},
   "outputs": [],
   "source": []
  },
  {
   "cell_type": "code",
   "execution_count": null,
   "metadata": {},
   "outputs": [],
   "source": []
  },
  {
   "cell_type": "code",
   "execution_count": null,
   "metadata": {},
   "outputs": [],
   "source": []
  },
  {
   "cell_type": "code",
   "execution_count": null,
   "metadata": {},
   "outputs": [],
   "source": []
  },
  {
   "cell_type": "code",
   "execution_count": null,
   "metadata": {},
   "outputs": [],
   "source": []
  },
  {
   "cell_type": "code",
   "execution_count": null,
   "metadata": {},
   "outputs": [],
   "source": []
  },
  {
   "cell_type": "code",
   "execution_count": null,
   "metadata": {},
   "outputs": [],
   "source": [
    "\n"
   ]
  },
  {
   "cell_type": "code",
   "execution_count": null,
   "metadata": {},
   "outputs": [],
   "source": []
  },
  {
   "cell_type": "code",
   "execution_count": null,
   "metadata": {},
   "outputs": [],
   "source": []
  },
  {
   "cell_type": "code",
   "execution_count": null,
   "metadata": {},
   "outputs": [],
   "source": [
    "\n"
   ]
  },
  {
   "cell_type": "code",
   "execution_count": null,
   "metadata": {},
   "outputs": [],
   "source": []
  },
  {
   "cell_type": "code",
   "execution_count": null,
   "metadata": {},
   "outputs": [],
   "source": []
  },
  {
   "cell_type": "code",
   "execution_count": null,
   "metadata": {},
   "outputs": [],
   "source": []
  },
  {
   "cell_type": "code",
   "execution_count": null,
   "metadata": {},
   "outputs": [],
   "source": [
    "\n"
   ]
  },
  {
   "cell_type": "code",
   "execution_count": null,
   "metadata": {},
   "outputs": [],
   "source": []
  },
  {
   "cell_type": "code",
   "execution_count": null,
   "metadata": {},
   "outputs": [],
   "source": []
  }
 ],
 "metadata": {
  "kernelspec": {
   "display_name": "Python 3",
   "language": "python",
   "name": "python3"
  },
  "language_info": {
   "codemirror_mode": {
    "name": "ipython",
    "version": 3
   },
   "file_extension": ".py",
   "mimetype": "text/x-python",
   "name": "python",
   "nbconvert_exporter": "python",
   "pygments_lexer": "ipython3",
   "version": "3.8.5"
  }
 },
 "nbformat": 4,
 "nbformat_minor": 4
}
